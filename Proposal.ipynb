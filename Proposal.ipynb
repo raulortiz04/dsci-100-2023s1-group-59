{
 "cells": [
  {
   "cell_type": "code",
   "execution_count": null,
   "id": "cd1cccb3-7e33-4767-9a6b-d071bfcf0b74",
   "metadata": {},
   "outputs": [],
   "source": [
    "new thing"
   ]
  }
 ],
 "metadata": {
  "kernelspec": {
   "display_name": "R",
   "language": "R",
   "name": "ir"
  },
  "language_info": {
   "codemirror_mode": "r",
   "file_extension": ".r",
   "mimetype": "text/x-r-source",
   "name": "R",
   "pygments_lexer": "r",
   "version": "4.1.3"
  }
 },
 "nbformat": 4,
 "nbformat_minor": 5
}
