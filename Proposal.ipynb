{
 "cells": [
  {
   "cell_type": "code",
   "execution_count": 1,
   "id": "cd1cccb3-7e33-4767-9a6b-d071bfcf0b74",
   "metadata": {},
   "outputs": [
    {
     "name": "stderr",
     "output_type": "stream",
     "text": [
      "── \u001b[1mAttaching packages\u001b[22m ─────────────────────────────────────── tidyverse 1.3.1 ──\n",
      "\n",
      "\u001b[32m✔\u001b[39m \u001b[34mggplot2\u001b[39m 3.3.6     \u001b[32m✔\u001b[39m \u001b[34mpurrr  \u001b[39m 0.3.4\n",
      "\u001b[32m✔\u001b[39m \u001b[34mtibble \u001b[39m 3.1.7     \u001b[32m✔\u001b[39m \u001b[34mdplyr  \u001b[39m 1.0.9\n",
      "\u001b[32m✔\u001b[39m \u001b[34mtidyr  \u001b[39m 1.2.0     \u001b[32m✔\u001b[39m \u001b[34mstringr\u001b[39m 1.4.0\n",
      "\u001b[32m✔\u001b[39m \u001b[34mreadr  \u001b[39m 2.1.2     \u001b[32m✔\u001b[39m \u001b[34mforcats\u001b[39m 0.5.1\n",
      "\n",
      "── \u001b[1mConflicts\u001b[22m ────────────────────────────────────────── tidyverse_conflicts() ──\n",
      "\u001b[31m✖\u001b[39m \u001b[34mdplyr\u001b[39m::\u001b[32mfilter()\u001b[39m masks \u001b[34mstats\u001b[39m::filter()\n",
      "\u001b[31m✖\u001b[39m \u001b[34mdplyr\u001b[39m::\u001b[32mlag()\u001b[39m    masks \u001b[34mstats\u001b[39m::lag()\n",
      "\n",
      "── \u001b[1mAttaching packages\u001b[22m ────────────────────────────────────── tidymodels 1.0.0 ──\n",
      "\n",
      "\u001b[32m✔\u001b[39m \u001b[34mbroom       \u001b[39m 1.0.0     \u001b[32m✔\u001b[39m \u001b[34mrsample     \u001b[39m 1.0.0\n",
      "\u001b[32m✔\u001b[39m \u001b[34mdials       \u001b[39m 1.0.0     \u001b[32m✔\u001b[39m \u001b[34mtune        \u001b[39m 1.0.0\n",
      "\u001b[32m✔\u001b[39m \u001b[34minfer       \u001b[39m 1.0.2     \u001b[32m✔\u001b[39m \u001b[34mworkflows   \u001b[39m 1.0.0\n",
      "\u001b[32m✔\u001b[39m \u001b[34mmodeldata   \u001b[39m 1.0.0     \u001b[32m✔\u001b[39m \u001b[34mworkflowsets\u001b[39m 1.0.0\n",
      "\u001b[32m✔\u001b[39m \u001b[34mparsnip     \u001b[39m 1.0.0     \u001b[32m✔\u001b[39m \u001b[34myardstick   \u001b[39m 1.0.0\n",
      "\u001b[32m✔\u001b[39m \u001b[34mrecipes     \u001b[39m 1.0.1     \n",
      "\n",
      "── \u001b[1mConflicts\u001b[22m ───────────────────────────────────────── tidymodels_conflicts() ──\n",
      "\u001b[31m✖\u001b[39m \u001b[34mscales\u001b[39m::\u001b[32mdiscard()\u001b[39m masks \u001b[34mpurrr\u001b[39m::discard()\n",
      "\u001b[31m✖\u001b[39m \u001b[34mdplyr\u001b[39m::\u001b[32mfilter()\u001b[39m   masks \u001b[34mstats\u001b[39m::filter()\n",
      "\u001b[31m✖\u001b[39m \u001b[34mrecipes\u001b[39m::\u001b[32mfixed()\u001b[39m  masks \u001b[34mstringr\u001b[39m::fixed()\n",
      "\u001b[31m✖\u001b[39m \u001b[34mdplyr\u001b[39m::\u001b[32mlag()\u001b[39m      masks \u001b[34mstats\u001b[39m::lag()\n",
      "\u001b[31m✖\u001b[39m \u001b[34myardstick\u001b[39m::\u001b[32mspec()\u001b[39m masks \u001b[34mreadr\u001b[39m::spec()\n",
      "\u001b[31m✖\u001b[39m \u001b[34mrecipes\u001b[39m::\u001b[32mstep()\u001b[39m   masks \u001b[34mstats\u001b[39m::step()\n",
      "\u001b[34m•\u001b[39m Use \u001b[32mtidymodels_prefer()\u001b[39m to resolve common conflicts.\n",
      "\n",
      "Warning message in file(filename, \"r\", encoding = encoding):\n",
      "“cannot open file 'tests.R': No such file or directory”\n"
     ]
    },
    {
     "ename": "ERROR",
     "evalue": "Error in file(filename, \"r\", encoding = encoding): cannot open the connection\n",
     "output_type": "error",
     "traceback": [
      "Error in file(filename, \"r\", encoding = encoding): cannot open the connection\nTraceback:\n",
      "1. source(\"tests.R\")",
      "2. file(filename, \"r\", encoding = encoding)"
     ]
    }
   ],
   "source": [
    "library(tidyverse)\n",
    "library(repr)\n",
    "library(tidymodels)\n",
    "options(repr.matrix.max.rows = 8)\n",
    "source(\"tests.R\")\n",
    "source('cleanup.R')"
   ]
  },
  {
   "cell_type": "code",
   "execution_count": 2,
   "id": "35048bab-05a8-49f4-a15d-00f528c49eeb",
   "metadata": {},
   "outputs": [
    {
     "name": "stderr",
     "output_type": "stream",
     "text": [
      "\u001b[1mRows: \u001b[22m\u001b[34m920\u001b[39m \u001b[1mColumns: \u001b[22m\u001b[34m16\u001b[39m\n",
      "\u001b[36m──\u001b[39m \u001b[1mColumn specification\u001b[22m \u001b[36m────────────────────────────────────────────────────────\u001b[39m\n",
      "\u001b[1mDelimiter:\u001b[22m \",\"\n",
      "\u001b[31mchr\u001b[39m (6): sex, dataset, cp, restecg, slope, thal\n",
      "\u001b[32mdbl\u001b[39m (8): id, age, trestbps, chol, thalch, oldpeak, ca, num\n",
      "\u001b[33mlgl\u001b[39m (2): fbs, exang\n",
      "\n",
      "\u001b[36mℹ\u001b[39m Use `spec()` to retrieve the full column specification for this data.\n",
      "\u001b[36mℹ\u001b[39m Specify the column types or set `show_col_types = FALSE` to quiet this message.\n"
     ]
    },
    {
     "data": {
      "text/html": [
       "<table class=\"dataframe\">\n",
       "<caption>A tibble: 920 × 7</caption>\n",
       "<thead>\n",
       "\t<tr><th scope=col>age</th><th scope=col>sex</th><th scope=col>cp</th><th scope=col>trestbps</th><th scope=col>chol</th><th scope=col>restecg</th><th scope=col>thalch</th></tr>\n",
       "\t<tr><th scope=col>&lt;dbl&gt;</th><th scope=col>&lt;chr&gt;</th><th scope=col>&lt;chr&gt;</th><th scope=col>&lt;dbl&gt;</th><th scope=col>&lt;dbl&gt;</th><th scope=col>&lt;chr&gt;</th><th scope=col>&lt;dbl&gt;</th></tr>\n",
       "</thead>\n",
       "<tbody>\n",
       "\t<tr><td>63</td><td>Male</td><td>typical angina</td><td>145</td><td>233</td><td>lv hypertrophy</td><td>150</td></tr>\n",
       "\t<tr><td>67</td><td>Male</td><td>asymptomatic  </td><td>160</td><td>286</td><td>lv hypertrophy</td><td>108</td></tr>\n",
       "\t<tr><td>67</td><td>Male</td><td>asymptomatic  </td><td>120</td><td>229</td><td>lv hypertrophy</td><td>129</td></tr>\n",
       "\t<tr><td>37</td><td>Male</td><td>non-anginal   </td><td>130</td><td>250</td><td>normal        </td><td>187</td></tr>\n",
       "\t<tr><td>⋮</td><td>⋮</td><td>⋮</td><td>⋮</td><td>⋮</td><td>⋮</td><td>⋮</td></tr>\n",
       "\t<tr><td>62</td><td>Male</td><td>typical angina </td><td> NA</td><td>139</td><td>st-t abnormality</td><td> NA</td></tr>\n",
       "\t<tr><td>55</td><td>Male</td><td>asymptomatic   </td><td>122</td><td>223</td><td>st-t abnormality</td><td>100</td></tr>\n",
       "\t<tr><td>58</td><td>Male</td><td>asymptomatic   </td><td> NA</td><td>385</td><td>lv hypertrophy  </td><td> NA</td></tr>\n",
       "\t<tr><td>62</td><td>Male</td><td>atypical angina</td><td>120</td><td>254</td><td>lv hypertrophy  </td><td> 93</td></tr>\n",
       "</tbody>\n",
       "</table>\n"
      ],
      "text/latex": [
       "A tibble: 920 × 7\n",
       "\\begin{tabular}{lllllll}\n",
       " age & sex & cp & trestbps & chol & restecg & thalch\\\\\n",
       " <dbl> & <chr> & <chr> & <dbl> & <dbl> & <chr> & <dbl>\\\\\n",
       "\\hline\n",
       "\t 63 & Male & typical angina & 145 & 233 & lv hypertrophy & 150\\\\\n",
       "\t 67 & Male & asymptomatic   & 160 & 286 & lv hypertrophy & 108\\\\\n",
       "\t 67 & Male & asymptomatic   & 120 & 229 & lv hypertrophy & 129\\\\\n",
       "\t 37 & Male & non-anginal    & 130 & 250 & normal         & 187\\\\\n",
       "\t ⋮ & ⋮ & ⋮ & ⋮ & ⋮ & ⋮ & ⋮\\\\\n",
       "\t 62 & Male & typical angina  &  NA & 139 & st-t abnormality &  NA\\\\\n",
       "\t 55 & Male & asymptomatic    & 122 & 223 & st-t abnormality & 100\\\\\n",
       "\t 58 & Male & asymptomatic    &  NA & 385 & lv hypertrophy   &  NA\\\\\n",
       "\t 62 & Male & atypical angina & 120 & 254 & lv hypertrophy   &  93\\\\\n",
       "\\end{tabular}\n"
      ],
      "text/markdown": [
       "\n",
       "A tibble: 920 × 7\n",
       "\n",
       "| age &lt;dbl&gt; | sex &lt;chr&gt; | cp &lt;chr&gt; | trestbps &lt;dbl&gt; | chol &lt;dbl&gt; | restecg &lt;chr&gt; | thalch &lt;dbl&gt; |\n",
       "|---|---|---|---|---|---|---|\n",
       "| 63 | Male | typical angina | 145 | 233 | lv hypertrophy | 150 |\n",
       "| 67 | Male | asymptomatic   | 160 | 286 | lv hypertrophy | 108 |\n",
       "| 67 | Male | asymptomatic   | 120 | 229 | lv hypertrophy | 129 |\n",
       "| 37 | Male | non-anginal    | 130 | 250 | normal         | 187 |\n",
       "| ⋮ | ⋮ | ⋮ | ⋮ | ⋮ | ⋮ | ⋮ |\n",
       "| 62 | Male | typical angina  |  NA | 139 | st-t abnormality |  NA |\n",
       "| 55 | Male | asymptomatic    | 122 | 223 | st-t abnormality | 100 |\n",
       "| 58 | Male | asymptomatic    |  NA | 385 | lv hypertrophy   |  NA |\n",
       "| 62 | Male | atypical angina | 120 | 254 | lv hypertrophy   |  93 |\n",
       "\n"
      ],
      "text/plain": [
       "    age sex  cp              trestbps chol restecg          thalch\n",
       "1   63  Male typical angina  145      233  lv hypertrophy   150   \n",
       "2   67  Male asymptomatic    160      286  lv hypertrophy   108   \n",
       "3   67  Male asymptomatic    120      229  lv hypertrophy   129   \n",
       "4   37  Male non-anginal     130      250  normal           187   \n",
       "⋮   ⋮   ⋮    ⋮               ⋮        ⋮    ⋮                ⋮     \n",
       "917 62  Male typical angina   NA      139  st-t abnormality  NA   \n",
       "918 55  Male asymptomatic    122      223  st-t abnormality 100   \n",
       "919 58  Male asymptomatic     NA      385  lv hypertrophy    NA   \n",
       "920 62  Male atypical angina 120      254  lv hypertrophy    93   "
      ]
     },
     "metadata": {},
     "output_type": "display_data"
    }
   ],
   "source": [
    "heart_disease <-read_csv(\"heart_disease_uci.csv\")\n",
    "\n",
    "specific_data<- select(heart_disease, -num, - thal, -slope, -dataset, -oldpeak, -exang, -id, -ca, -fbs)\n",
    "specific_data"
   ]
  },
  {
   "cell_type": "markdown",
   "id": "c07c6330-1278-43d8-a752-da45988f36c5",
   "metadata": {},
   "source": [
    "**Proposal**\n",
    "\n",
    "**Title: Gender Disparities in Heart Disease Risk Factors and Prevalence: Exploring the Impact of Key Predictive Variables**\n",
    "\n",
    "Heart disease is a significant global health concern affecting both men and women. Gender differences exist in the prevalence, risk factors, and manifestations of heart disease. Understanding these gender-specific aspects is crucial for effective prevention and treatment strategies. Factors such as cholesterol levels, age, blood pressure, electrocardiographic results, maximum heart rate achieved, and sex can contribute to heart disease development. By analyzing these key predictive variables, including their relationship with different genders, we aim to identify which gender is more affected by heart disease. This research will contribute to our knowledge of gender-specific factors influencing heart disease and facilitate the development of targeted interventions for improved cardiovascular health.\n",
    "\n",
    "**Clearly state the question you will try to answer with your project**:\n",
    "\n",
    "In this project, our main question revolves around determining which gender is more likely to develop heart disease based on potential contributing factors, \" Which gender has more chance to get heart disease by considering the features that might cause the heart disease?\". To answer this question, we will analyze various variables that are known to be associated with heart disease. By examining these variables, we aim to identify any disparities between males and females in terms of their susceptibility to heart disease. We will explore the relationship between gender and these contributing factors, seeking to understand which gender exhibits a higher risk for developing heart disease. By conducting a thorough analysis, we hope to shed light on the gender-specific aspects of heart disease and contribute to a better understanding of this health issue.\n",
    "\n",
    "To answer our question, we will consider several useful variables that impact CP. These variables include cholesterol levels, age, resting blood pressure, resting electrocardiographic results, maximum heart rate achieved, and sex (color). By examining these factors, we can gain insights into the cardiovascular performance and better understand its relationship with these variables. \n",
    "\n",
    "For the preliminary exploratory data analysis, we will demonstrate that the dataset can be read from the web into R. We will organize the data into a single table with multiple columns. We will also clean and wrangle the data to ensure it is in a tidy format, making visualization easy. We will then explore the dataset using summary statistics, visualizations, and statistical tests. Our aim is to identify relationships between variables and understand the distribution of the target variable. To facilitate understanding, we color-label certain variables. Additionally, we will compare age and sex with multiple variables within the dataset, utilizing various plots to demonstrate specific relationships between them.\n",
    "\n",
    "**Methods**:\n",
    "1. Find each gender’s most chest pain type by selecting sex and cp columns. Then we are going to create a bar graph and colour males and females differently. Create a scatter graph age against cp by selecting age and cp columns. \n",
    "2. Comparing each gender by cholesterol and find which gender has higher cholesterol rate. We are going to select sex, and chol columns. Then we are going to mutate the data and find the average chol rate for each sex. Then create the bar graph of sex against average chol rate and colour males and females differently. \n",
    "3. Comparing each gender by resting blood pressure and finding which gender has higher resting blood pressure rate. We are going to select sex, and trestbps columns. Then we are going to mutate the data and find the average trestbps rate for each sex. \n",
    "4. Then create the bar graph of sex against average trestbps rate and colour males and females differently. \n",
    "5. Find each gender’s most resting electrocardiographic results by selecting sex, and restecg columns. Then we are going to create a bar graph and colour males and females differently.\n",
    "6. Comparing each gender by maximum heart rate achieved and finding which gender has higher maximum heart rate achieved. We are going to select sex, and thalach columns. Then we are going to mutate the data and find the average thalach rate for each sex. Then create the bar graph of sex against average thalach rate and colour males and females differently.\n",
    "7. Finally, combine all features against gender together and see what results we get.  \n",
    " \n",
    "\n",
    "**Expected outcomes and significance**:\n",
    "\n",
    "In our project, we expect to find differences between genders and positive correlations between cholesterol, age, resting blood pressure, resting electrocardiographic results, and heart disease (chest pain). Conversely, we anticipate a negative correlation between maximum heart rate achieved and heart disease, as a higher maximum heart rate often indicates better health but tends to decrease with age. These findings will provide valuable insights into the relationship between these selected factors and heart disease, shedding light on the contributing factors and potential preventive measures. Understanding the impact of these factors on the probability of developing heart disease could lead to further inquiries into lifestyle choices and environmental factors that contribute to this condition. We may explore strategies to reduce the impact of these factors and assess the extent to which lifestyle choices can prevent heart disease. Furthermore, our research may delve into the intriguing \"nature vs nurture\" debate, examining how genetics and environmental factors influence the likelihood of developing heart disease.\n"
   ]
  },
  {
   "cell_type": "code",
   "execution_count": null,
   "id": "675a8eee-b199-48a1-9eb8-8cbae8db47bb",
   "metadata": {},
   "outputs": [],
   "source": []
  }
 ],
 "metadata": {
  "kernelspec": {
   "display_name": "R",
   "language": "R",
   "name": "ir"
  },
  "language_info": {
   "codemirror_mode": "r",
   "file_extension": ".r",
   "mimetype": "text/x-r-source",
   "name": "R",
   "pygments_lexer": "r",
   "version": "4.1.3"
  }
 },
 "nbformat": 4,
 "nbformat_minor": 5
}
